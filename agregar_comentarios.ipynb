{
 "cells": [
  {
   "cell_type": "code",
   "execution_count": 10,
   "metadata": {},
   "outputs": [],
   "source": [
    "from requests.auth import HTTPBasicAuth\n",
    "from impala.dbapi import connect\n",
    "from datetime import datetime\n",
    "from pyhive import hive\n",
    "import pandas as pd\n",
    "import requests\n",
    "import sqlparse\n",
    "import json\n",
    "import sys\n",
    "import os\n",
    "import re\n",
    "import numpy as np"
   ]
  },
  {
   "cell_type": "code",
   "execution_count": 16,
   "metadata": {},
   "outputs": [],
   "source": [
    "'''Variables'''\n",
    "## Atlas dev\n",
    "headers = {\n",
    "    \"Content-Type\": \"application/json\",\n",
    "    \"Accept\": \"application/json\"\n",
    "}\n",
    "credentials = HTTPBasicAuth('atlasadmin', 'xNB8lZ!Dut')\n",
    "atlas_urls = [\"172.30.213.141\",\"172.30.213.142\"]\n",
    "atlas_port = 31000\n",
    "\n",
    "## Hive dev\n",
    "hive_host = 'edh-master-01d.root.corp'\n",
    "hive_port = 10000\n",
    "hive_user = 'admin'\n",
    "\n",
    "\n",
    "## Impala dev\n",
    "impala_host = '172.30.213.211'\n",
    "impala_port = 21050\n",
    "impala_user = 'admin'"
   ]
  },
  {
   "cell_type": "code",
   "execution_count": 11,
   "metadata": {},
   "outputs": [],
   "source": [
    "#HIVE\n",
    "def show_create_table( hive_database, table_name ):\n",
    "    #Creo la conexión y obtengo el cursos\n",
    "    hive_conn = hive.connect(host=hive_host, port=hive_port, username=hive_user, database=hive_database)\n",
    "    hive_cursor = hive_conn.cursor()\n",
    "\n",
    "    # Obtengo el create\n",
    "    hive_cursor.execute(f'SHOW CREATE TABLE {hive_database}.{table_name}')\n",
    "    databases = list(map(lambda x: x[0], hive_cursor.fetchall()))\n",
    "    \n",
    "    #Lo formateo a código ejecutable\n",
    "    create_table_query = \" \".join(databases)\n",
    "    return create_table_query"
   ]
  },
  {
   "cell_type": "code",
   "execution_count": 12,
   "metadata": {},
   "outputs": [],
   "source": [
    "#HIVE\n",
    "def obtener_comentario_tabla( create_table_completo ):\n",
    "    create_table_completo = create_table_completo.split('COMMENT')\n",
    "    for elemento in create_table_completo :\n",
    "        if 'partitioned by' in elemento.lower():\n",
    "            # Encuentra la posición de 'PARTITIONED BY'\n",
    "            posicion_partitioned_by = elemento.find('PARTITIONED BY')\n",
    "\n",
    "            # Obtiene todo antes de 'PARTITIONED BY'\n",
    "            comentario_tabla = elemento[:posicion_partitioned_by].strip()\n",
    "\n",
    "            return comentario_tabla"
   ]
  },
  {
   "cell_type": "code",
   "execution_count": 36,
   "metadata": {},
   "outputs": [],
   "source": [
    "# Sabemos que el comentario de todos los campos fecha_proceso es 'Fecha de Proceso de archivo'\n",
    "def procesar_fecha_proceso(fila):\n",
    "    if fila['campo']=='fecha_proceso':\n",
    "        return 'Fecha de Proceso de archivo'\n",
    "    else:\n",
    "        return fila['comentario']"
   ]
  },
  {
   "cell_type": "code",
   "execution_count": 5,
   "metadata": {},
   "outputs": [],
   "source": [
    "df = pd.read_csv('data/metadata_hive.csv', index_col=0)"
   ]
  },
  {
   "cell_type": "code",
   "execution_count": 6,
   "metadata": {},
   "outputs": [],
   "source": [
    "df_1 = df.copy()"
   ]
  },
  {
   "cell_type": "code",
   "execution_count": 9,
   "metadata": {},
   "outputs": [],
   "source": [
    "# Crear una nueva columna 'registro' para determinar cuándo se debe insertar el comentario de tabla\n",
    "df_1['registro'] = (df_1['tabla'] != df_1['tabla'].shift()).cumsum()"
   ]
  },
  {
   "cell_type": "code",
   "execution_count": 24,
   "metadata": {},
   "outputs": [],
   "source": [
    "modified_dfs = []"
   ]
  },
  {
   "cell_type": "code",
   "execution_count": 25,
   "metadata": {},
   "outputs": [],
   "source": [
    "# Iterar sobre grupos y agregar registros según la condición\n",
    "for name, group in df_1.groupby('registro'):\n",
    "    # Obtener comment de tabla\n",
    "    create_table = show_create_table(group['base'].iloc[0], group['tabla'].iloc[0])\n",
    "    comentario_tabla = obtener_comentario_tabla(create_table)\n",
    "    \n",
    "    # Nueva row con comment\n",
    "    new_row = pd.DataFrame({'campo': [None], 'tipo_dato': [None], 'comentario': [comentario_tabla],\n",
    "                            'base': [group['base'].iloc[0]], 'tabla': [group['tabla'].iloc[0]], 'entidad': [None], 'zona': [None]})\n",
    "    \n",
    "    # Concatenar el grupo + row comment\n",
    "    modified_group = pd.concat([group, new_row], ignore_index=True)\n",
    "    \n",
    "    # Añadir el grupo modificado a la lista\n",
    "    modified_dfs.append(modified_group)\n"
   ]
  },
  {
   "cell_type": "code",
   "execution_count": 26,
   "metadata": {},
   "outputs": [],
   "source": [
    "# Concatenar todos los DataFrames modificados en uno solo\n",
    "df_modified = pd.concat(modified_dfs, ignore_index=True)\n",
    "\n",
    "# Eliminar la columna 'registro' si no la necesitas en el resultado final\n",
    "df_modified = df_modified.drop(columns=['registro'])"
   ]
  },
  {
   "cell_type": "code",
   "execution_count": 39,
   "metadata": {},
   "outputs": [],
   "source": [
    "# Aplica la función a cada fila de la columna 'comentario'\n",
    "df_modified['comentario'] = df_modified.apply(procesar_fecha_proceso, axis=1)"
   ]
  },
  {
   "cell_type": "code",
   "execution_count": 1,
   "metadata": {},
   "outputs": [
    {
     "ename": "NameError",
     "evalue": "name 'df_modified' is not defined",
     "output_type": "error",
     "traceback": [
      "\u001b[0;31m---------------------------------------------------------------------------\u001b[0m",
      "\u001b[0;31mNameError\u001b[0m                                 Traceback (most recent call last)",
      "Cell \u001b[0;32mIn[1], line 1\u001b[0m\n\u001b[0;32m----> 1\u001b[0m df_modified\n",
      "\u001b[0;31mNameError\u001b[0m: name 'df_modified' is not defined"
     ]
    }
   ],
   "source": [
    "df_modified"
   ]
  },
  {
   "cell_type": "code",
   "execution_count": 11,
   "metadata": {},
   "outputs": [
    {
     "ename": "NameError",
     "evalue": "name 'df_modified' is not defined",
     "output_type": "error",
     "traceback": [
      "\u001b[0;31m---------------------------------------------------------------------------\u001b[0m",
      "\u001b[0;31mNameError\u001b[0m                                 Traceback (most recent call last)",
      "Cell \u001b[0;32mIn[11], line 2\u001b[0m\n\u001b[1;32m      1\u001b[0m \u001b[39m#Guardamos\u001b[39;00m\n\u001b[0;32m----> 2\u001b[0m df_modified\u001b[39m.\u001b[39mto_csv(\u001b[39m'\u001b[39m\u001b[39mdata_procesada/metadata_hive_completo.csv\u001b[39m\u001b[39m'\u001b[39m,sep\u001b[39m=\u001b[39m\u001b[39m'\u001b[39m\u001b[39m|\u001b[39m\u001b[39m'\u001b[39m, index\u001b[39m=\u001b[39m\u001b[39mFalse\u001b[39;00m)\n",
      "\u001b[0;31mNameError\u001b[0m: name 'df_modified' is not defined"
     ]
    }
   ],
   "source": [
    "#Guardamos\n",
    "df_modified.to_csv('data_procesada/metadata_hive_completo.csv',sep='|', index=False)"
   ]
  },
  {
   "cell_type": "code",
   "execution_count": 12,
   "metadata": {},
   "outputs": [],
   "source": [
    "df = pd.read_csv('data_procesada/metadata_hive_completo.csv', sep='|')"
   ]
  },
  {
   "cell_type": "code",
   "execution_count": 9,
   "metadata": {},
   "outputs": [
    {
     "data": {
      "text/html": [
       "<div>\n",
       "<style scoped>\n",
       "    .dataframe tbody tr th:only-of-type {\n",
       "        vertical-align: middle;\n",
       "    }\n",
       "\n",
       "    .dataframe tbody tr th {\n",
       "        vertical-align: top;\n",
       "    }\n",
       "\n",
       "    .dataframe thead th {\n",
       "        text-align: right;\n",
       "    }\n",
       "</style>\n",
       "<table border=\"1\" class=\"dataframe\">\n",
       "  <thead>\n",
       "    <tr style=\"text-align: right;\">\n",
       "      <th></th>\n",
       "      <th>campo</th>\n",
       "      <th>tipo_dato</th>\n",
       "      <th>comentario</th>\n",
       "      <th>base</th>\n",
       "      <th>tabla</th>\n",
       "      <th>entidad</th>\n",
       "      <th>zona</th>\n",
       "    </tr>\n",
       "  </thead>\n",
       "  <tbody>\n",
       "    <tr>\n",
       "      <th>118</th>\n",
       "      <td>NaN</td>\n",
       "      <td>NaN</td>\n",
       "      <td>'Maestro de productos general'</td>\n",
       "      <td>de_ber_2cur</td>\n",
       "      <td>productos_aampr</td>\n",
       "      <td>NaN</td>\n",
       "      <td>NaN</td>\n",
       "    </tr>\n",
       "  </tbody>\n",
       "</table>\n",
       "</div>"
      ],
      "text/plain": [
       "    campo tipo_dato                      comentario         base  \\\n",
       "118   NaN       NaN  'Maestro de productos general'  de_ber_2cur   \n",
       "\n",
       "               tabla entidad zona  \n",
       "118  productos_aampr     NaN  NaN  "
      ]
     },
     "execution_count": 9,
     "metadata": {},
     "output_type": "execute_result"
    }
   ],
   "source": [
    "df.loc[ (df['tabla'] == 'productos_aampr') & (df['campo'].isna()) ]"
   ]
  },
  {
   "cell_type": "code",
   "execution_count": 14,
   "metadata": {},
   "outputs": [
    {
     "data": {
      "text/html": [
       "<div>\n",
       "<style scoped>\n",
       "    .dataframe tbody tr th:only-of-type {\n",
       "        vertical-align: middle;\n",
       "    }\n",
       "\n",
       "    .dataframe tbody tr th {\n",
       "        vertical-align: top;\n",
       "    }\n",
       "\n",
       "    .dataframe thead th {\n",
       "        text-align: right;\n",
       "    }\n",
       "</style>\n",
       "<table border=\"1\" class=\"dataframe\">\n",
       "  <thead>\n",
       "    <tr style=\"text-align: right;\">\n",
       "      <th></th>\n",
       "      <th>campo</th>\n",
       "      <th>tipo_dato</th>\n",
       "      <th>comentario</th>\n",
       "      <th>base</th>\n",
       "      <th>tabla</th>\n",
       "      <th>entidad</th>\n",
       "      <th>zona</th>\n",
       "    </tr>\n",
       "  </thead>\n",
       "  <tbody>\n",
       "    <tr>\n",
       "      <th>118</th>\n",
       "      <td>NaN</td>\n",
       "      <td>NaN</td>\n",
       "      <td>'Maestro de productos general'</td>\n",
       "      <td>de_ber_2cur</td>\n",
       "      <td>productos_aampr</td>\n",
       "      <td>NaN</td>\n",
       "      <td>NaN</td>\n",
       "    </tr>\n",
       "  </tbody>\n",
       "</table>\n",
       "</div>"
      ],
      "text/plain": [
       "    campo tipo_dato                      comentario         base  \\\n",
       "118   NaN       NaN  'Maestro de productos general'  de_ber_2cur   \n",
       "\n",
       "               tabla entidad zona  \n",
       "118  productos_aampr     NaN  NaN  "
      ]
     },
     "execution_count": 14,
     "metadata": {},
     "output_type": "execute_result"
    }
   ],
   "source": [
    "df[df['comentario']==\"'Maestro de productos general'\"]"
   ]
  }
 ],
 "metadata": {
  "kernelspec": {
   "display_name": "Python 3",
   "language": "python",
   "name": "python3"
  },
  "language_info": {
   "codemirror_mode": {
    "name": "ipython",
    "version": 3
   },
   "file_extension": ".py",
   "mimetype": "text/x-python",
   "name": "python",
   "nbconvert_exporter": "python",
   "pygments_lexer": "ipython3",
   "version": "3.10.12"
  },
  "orig_nbformat": 4
 },
 "nbformat": 4,
 "nbformat_minor": 2
}
